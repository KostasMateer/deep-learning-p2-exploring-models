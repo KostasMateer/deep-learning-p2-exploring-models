{
 "cells": [
  {
   "cell_type": "markdown",
   "id": "a1f57ffe-0368-4703-9c95-f4c434602301",
   "metadata": {},
   "source": [
    "Code reviewed by Richard Carter\n",
    "Comments: Very nice presentation of the first two datasets with high accuracies for all three datasets. Overall great job breaking up the good and walking the user through the presentation although the third dataset could use some work."
   ]
  },
  {
   "cell_type": "code",
   "execution_count": 1,
   "id": "1d011a4a-712b-4681-b476-b628588b9f6e",
   "metadata": {},
   "outputs": [],
   "source": [
    "import matplotlib.pyplot as plt\n",
    "import kNN, logistic, SVM, my_pipelines"
   ]
  },
  {
   "cell_type": "markdown",
   "id": "92685e6b-00fd-4734-bb46-bff2ff38d7d1",
   "metadata": {},
   "source": [
    "# Examining Machine Learning models for regression and classification datasets\n",
    "### Will Towle & Kostas Mateer"
   ]
  },
  {
   "cell_type": "markdown",
   "id": "71bb4afa-7dd1-4302-a974-b3ab7b0d680c",
   "metadata": {},
   "source": [
    "## The Data:\n",
    "#### Car data: cars classified by acceptability\n",
    "#### Cancer data: growths classified by diagnosis\n",
    "#### Energy data: heating and cooling requirements of a building\n",
    "\n",
    "    "
   ]
  },
  {
   "cell_type": "markdown",
   "id": "004bd200-a61c-491f-94cb-d6e8f52253bf",
   "metadata": {},
   "source": [
    "## **Car Dataset**\n",
    "#### Data process\n",
    "Data is captured using pandas and the data is encoded to numerical values. The encoders used to encode the data is also returned so they can be used to reverse the encoding."
   ]
  },
  {
   "cell_type": "code",
   "execution_count": 2,
   "id": "67265a5b-b055-4a10-8f7b-ed9548344000",
   "metadata": {},
   "outputs": [],
   "source": [
    "filename = \"car.data\"\n",
    "X, y, encoders = my_pipelines.get_data(filename)"
   ]
  },
  {
   "cell_type": "markdown",
   "id": "fa102b9c-ec7e-4d94-a0bb-ae3591c03912",
   "metadata": {},
   "source": [
    "The data is then split into train, test, and validation sub-datasets"
   ]
  },
  {
   "cell_type": "code",
   "execution_count": 3,
   "id": "3107963f-6e94-4a0a-9891-c04664853f4a",
   "metadata": {},
   "outputs": [],
   "source": [
    "X_train, X_test, X_val, y_train, y_test, y_val = my_pipelines.split(X, y)"
   ]
  },
  {
   "cell_type": "markdown",
   "id": "2ce725ac-1f0d-4c77-86e5-4dfdd2dc3c5c",
   "metadata": {},
   "source": [
    "Now for the training of the model(s):\n",
    "### **kNN**\n",
    "The validation datasets were used to iterate over k-values from 1 to 10. 7 and 8 yeilded the  highest accuracy score of ~95% (varries on different splits because of the shuffling algorithm). Observe:"
   ]
  },
  {
   "cell_type": "code",
   "execution_count": 4,
   "id": "f7bb45f2-e000-471f-9562-0bac1ebc4055",
   "metadata": {},
   "outputs": [
    {
     "data": {
      "text/plain": [
       "[<matplotlib.lines.Line2D at 0x1488fcbc28e0>]"
      ]
     },
     "execution_count": 4,
     "metadata": {},
     "output_type": "execute_result"
    },
    {
     "data": {
      "image/png": "[encoded data removed]",
      "text/plain": [
       "<Figure size 432x288 with 1 Axes>"
      ]
     },
     "metadata": {
      "needs_background": "light"
     },
     "output_type": "display_data"
    }
   ],
   "source": [
    "scores = []\n",
    "for k in range(1, 11):\n",
    "    model = kNN.fit(X_train, y_train.values.ravel(), k)\n",
    "    scores.append(kNN.score(model, X_val, y_val.values.ravel()))\n",
    "    \n",
    "plt.plot(range(1, 11), scores)"
   ]
  },
  {
   "cell_type": "code",
   "execution_count": 5,
   "id": "5cbe3236-3d8c-4e31-9abd-5ac86a9c221b",
   "metadata": {},
   "outputs": [
    {
     "name": "stdout",
     "output_type": "stream",
     "text": [
      "Accuracy of kNN model when k=8: 93.06%\n"
     ]
    }
   ],
   "source": [
    "model = kNN.fit(X_train, y_train.values.ravel(), 8)\n",
    "score = kNN.score(model, X_test, y_test.values.ravel())\n",
    "print(\"Accuracy of kNN model when k=8:\", str(round(score*100, 2)) + '%')"
   ]
  },
  {
   "cell_type": "markdown",
   "id": "19069831-c754-45ab-b88a-06ad498b8091",
   "metadata": {},
   "source": [
    "### **Logistic Regression**\n",
    "The hyperparameter that was adjusted in this model was the solver algorithm used to train the model. Observe:"
   ]
  },
  {
   "cell_type": "code",
   "execution_count": 6,
   "id": "2e841c29-3edd-4d05-a707-0922871f2dbf",
   "metadata": {},
   "outputs": [],
   "source": [
    "solvers = ['newton-cg', 'lbfgs', 'liblinear', 'sag', 'saga']\n",
    "scores = []\n",
    "for solver in solvers:\n",
    "    model = logistic.fit(X_train, y_train.values.ravel(), solver)\n",
    "    scores.append(logistic.score(model, X_val, y_val.values.ravel()))"
   ]
  },
  {
   "cell_type": "code",
   "execution_count": 7,
   "id": "e2e63f17-330e-4f55-b4a2-8b73a29ab417",
   "metadata": {},
   "outputs": [
    {
     "data": {
      "image/png": "[encoded data removed]",
      "text/plain": [
       "<Figure size 432x288 with 1 Axes>"
      ]
     },
     "metadata": {
      "needs_background": "light"
     },
     "output_type": "display_data"
    }
   ],
   "source": [
    "plot = plt.bar(solvers, scores)\n",
    "plt.show()"
   ]
  },
  {
   "cell_type": "markdown",
   "id": "828eade5-9d30-4848-8dd2-64007ad34579",
   "metadata": {},
   "source": [
    "It's difficult to see a real difference in performance between these logistic solvers on such a small dataset. However, it was concluded that 'liblinear' consistently yielded slighty better performance."
   ]
  },
  {
   "cell_type": "code",
   "execution_count": 8,
   "id": "5eb884fa-4ae0-45f4-9445-f01936e27c69",
   "metadata": {},
   "outputs": [
    {
     "name": "stdout",
     "output_type": "stream",
     "text": [
      "Accuracy of logistic model when solver is liblinear: 68.21%\n"
     ]
    }
   ],
   "source": [
    "model = logistic.fit(X_train, y_train.values.ravel(), solver)\n",
    "score = logistic.score(model, X_test, y_test.values.ravel())\n",
    "print(\"Accuracy of logistic model when solver is liblinear:\", str(round(score*100, 2)) + '%')"
   ]
  },
  {
   "cell_type": "markdown",
   "id": "660c3fae-6f97-49eb-adeb-a0d7a0421876",
   "metadata": {},
   "source": [
    "For the car data, our model selection process determined that kNN with k = 7 or 8 yields the best results"
   ]
  },
  {
   "cell_type": "markdown",
   "id": "ba814c49-d875-4fb4-a0ac-9230dfc82e7d",
   "metadata": {},
   "source": [
    "## **Cancer Dataset**\n",
    "### Data Process\n",
    "The cancer data is another classification dataset. The data is split into X and y sub-datasets. Because the y is in classes, it must be encoded."
   ]
  },
  {
   "cell_type": "code",
   "execution_count": 9,
   "id": "b7b74c98-1c52-4ae6-af4f-1f5a095f560e",
   "metadata": {},
   "outputs": [],
   "source": [
    "filename = \"wdbc.data\"\n",
    "X, y = my_pipelines.get_data(filename)\n",
    "y, encoders = my_pipelines.encode(y, [\"Diagnosis\"])"
   ]
  },
  {
   "cell_type": "markdown",
   "id": "6fb76ca7-ceb7-4b4b-8d02-27517df5f3d8",
   "metadata": {},
   "source": [
    "The data now needs to be split and normalized:"
   ]
  },
  {
   "cell_type": "code",
   "execution_count": 10,
   "id": "81de7c5e-6d42-4eea-9c46-43fe64f1c76e",
   "metadata": {},
   "outputs": [],
   "source": [
    "X_train, X_test, X_val, y_train, y_test, y_val = my_pipelines.split(X, y)\n",
    "X_train, X_test, X_val, stdscalers_x = my_pipelines.normalize(X_train, X_test, X_val)"
   ]
  },
  {
   "cell_type": "markdown",
   "id": "3744632e-5dab-4a27-befb-9789e7e39a6d",
   "metadata": {},
   "source": [
    "## **Support Vector Machine (SVM)**"
   ]
  },
  {
   "cell_type": "code",
   "execution_count": 11,
   "id": "76012cee-785a-4fff-b2ad-6d8e3688f66c",
   "metadata": {},
   "outputs": [
    {
     "name": "stdout",
     "output_type": "stream",
     "text": [
      "Accuracy of SVM with untouched parameters: 100.0%\n"
     ]
    }
   ],
   "source": [
    "model = SVM.fit(X_train, y_train.values.ravel())\n",
    "score = SVM.score(model, X_val, y_val.values.ravel())\n",
    "print(\"Accuracy of SVM with untouched parameters:\", str(round(score*100, 2)) + '%')"
   ]
  },
  {
   "cell_type": "markdown",
   "id": "78a19905-1aa5-49e6-b6cb-9b50d31f6b6f",
   "metadata": {},
   "source": [
    "There were very little hyperparameters that were adjustable. One that was adjusted was the regularization parameter, but this adjustment yielded no different results. "
   ]
  },
  {
   "cell_type": "markdown",
   "id": "f47465c0-c780-4916-8bae-207ac2316757",
   "metadata": {},
   "source": [
    "## **Logistic Regression**"
   ]
  },
  {
   "cell_type": "code",
   "execution_count": 12,
   "id": "c6a4dbd2-69e0-4db0-ab2a-42cdf4a5926e",
   "metadata": {},
   "outputs": [
    {
     "name": "stdout",
     "output_type": "stream",
     "text": [
      "solver sag threw a ConvergenceWarning\n",
      "solver saga threw a ConvergenceWarning\n"
     ]
    }
   ],
   "source": [
    "import warnings\n",
    "from sklearn.exceptions import ConvergenceWarning\n",
    "warnings.filterwarnings(\"error\")\n",
    "\n",
    "solvers = ['newton-cg', 'lbfgs', 'liblinear', 'sag', 'saga']\n",
    "scores = []\n",
    "for solver in solvers:\n",
    "    try:\n",
    "        model = logistic.fit(X_train, y_train.values.ravel(), solver)\n",
    "        scores.append(logistic.score(model, X_val, y_val.values.ravel()))\n",
    "    except ConvergenceWarning:\n",
    "        scores.append(0)\n",
    "        print(\"solver\", solver, \"threw a ConvergenceWarning\")"
   ]
  },
  {
   "cell_type": "markdown",
   "id": "9eb4d9fa-584d-4eda-8111-a5aedbaabd7d",
   "metadata": {},
   "source": [
    "Some solvers used on this dataset do not converge. Specifically sag and saga. We will plot the others to examine their effectiveness: "
   ]
  },
  {
   "cell_type": "code",
   "execution_count": 13,
   "id": "d93c1d34-4b22-4c5f-9c3e-107f68ea2fd4",
   "metadata": {},
   "outputs": [
    {
     "data": {
      "image/png": "[encoded data removed]",
      "text/plain": [
       "<Figure size 432x288 with 1 Axes>"
      ]
     },
     "metadata": {
      "needs_background": "light"
     },
     "output_type": "display_data"
    }
   ],
   "source": [
    "plot = plt.bar(solvers, scores)\n",
    "plt.show()"
   ]
  },
  {
   "cell_type": "markdown",
   "id": "da62cf74-1cb9-4298-95d2-24362e3cd4c8",
   "metadata": {},
   "source": [
    "Again, there is little-to-no variation in each solver's effectiveness. We will use liblinear."
   ]
  },
  {
   "cell_type": "code",
   "execution_count": 14,
   "id": "dbb59e73-f8ef-4aee-92b2-6ba3452d5376",
   "metadata": {},
   "outputs": [
    {
     "name": "stdout",
     "output_type": "stream",
     "text": [
      "Accuracy of logistic model when solver is liblinear: 96.49%\n"
     ]
    }
   ],
   "source": [
    "solver = 'liblinear'\n",
    "model = logistic.fit(X_train, y_train.values.ravel(), solver)\n",
    "score = logistic.score(model, X_test, y_test.values.ravel())\n",
    "print(\"Accuracy of logistic model when solver is liblinear:\", str(round(score*100, 2)) + '%')"
   ]
  },
  {
   "cell_type": "code",
   "execution_count": 15,
   "id": "e061f743-bd86-4840-b042-12d2b8b344e6",
   "metadata": {},
   "outputs": [],
   "source": [
    "import pandas as pd\n",
    "import sklearn\n",
    "import my_pipelines as pipe\n",
    "import regression\n",
    "import matplotlib.pyplot as plt"
   ]
  },
  {
   "cell_type": "markdown",
   "id": "1fe00507-0637-4ece-a380-5a46ce8f74e7",
   "metadata": {},
   "source": [
    "**DATA**"
   ]
  },
  {
   "cell_type": "code",
   "execution_count": 16,
   "id": "e4bde3da-97e0-4558-985b-9ac9066ededc",
   "metadata": {},
   "outputs": [],
   "source": [
    "energy_data = pd.read_excel(\"ENB2012_data.xlsx\")\n",
    "x = energy_data.iloc[:, :-2]\n",
    "y = energy_data.iloc[:, -2:]\n",
    "X_train, X_test, X_val, y_train, y_test, y_val, std_scalers = regression.process_data(x, y)"
   ]
  },
  {
   "cell_type": "markdown",
   "id": "80fa9778-0705-4d5b-bce0-50e14fcd4ec1",
   "metadata": {},
   "source": [
    "**Linear Regression**"
   ]
  },
  {
   "cell_type": "markdown",
   "id": "a7e4a926-0281-4d51-9f59-54bdd248854c",
   "metadata": {},
   "source": [
    "The validation datasets were used to score against the training, to see how well the model did."
   ]
  },
  {
   "cell_type": "code",
   "execution_count": 17,
   "id": "e680f356-9bd1-48d5-88aa-0f10b983e981",
   "metadata": {},
   "outputs": [
    {
     "name": "stdout",
     "output_type": "stream",
     "text": [
      "The r2_score of the validation set -1.5711579798717904e+24\n"
     ]
    }
   ],
   "source": [
    "model = regression.fit(X_train, y_train)\n",
    "print(\"The r2_score of the validation set \" + str(regression.score(model, X_val, y_val)))"
   ]
  },
  {
   "cell_type": "code",
   "execution_count": 18,
   "id": "d129f6ff-eb2c-453c-ba71-4251c282abab",
   "metadata": {},
   "outputs": [
    {
     "name": "stdout",
     "output_type": "stream",
     "text": [
      "Accuracy of the regression model with coefficients: \n",
      "[[-7.10545783e-01  8.08723087e+12 -3.87853811e+12 -8.23228561e+12\n",
      "   7.25421216e-01 -5.47952877e-03  2.73336800e-01  3.73280422e-02]\n",
      " [-8.26982566e-01  8.71273754e+12 -4.17852355e+12 -8.86901153e+12\n",
      "   7.76795303e-01  1.71107629e-02  2.13089982e-01  1.06151951e-02]]\n",
      "Accuracy score (r2_score): -1.494288649469789e+25%\n"
     ]
    }
   ],
   "source": [
    "score = regression.score(model, X_test, y_test)\n",
    "print(\"Accuracy of the regression model with coefficients: \")\n",
    "print(model.coef_)\n",
    "print(\"Accuracy score (r2_score): \" + str(round(score*100, 2)) + \"%\")"
   ]
  },
  {
   "cell_type": "code",
   "execution_count": 19,
   "id": "e72a78ae-e357-4676-b8af-be31ff04d4f0",
   "metadata": {},
   "outputs": [
    {
     "data": {
      "text/plain": [
       "<matplotlib.collections.PathCollection at 0x14891cbb6850>"
      ]
     },
     "execution_count": 19,
     "metadata": {},
     "output_type": "execute_result"
    },
    {
     "data": {
      "image/png": "[encoded data removed]",
      "text/plain": [
       "<Figure size 432x288 with 1 Axes>"
      ]
     },
     "metadata": {
      "needs_background": "light"
     },
     "output_type": "display_data"
    }
   ],
   "source": [
    "y_pred = model.predict(X_test)\n",
    "\n",
    "unorm_y_pred = std_scalers[1][1].inverse_transform(y_pred)\n",
    "unorm_y_test = std_scalers[1][1].inverse_transform(y_test)\n",
    "unorm_y_pred1 = unorm_y_pred[:,0]\n",
    "unorm_y_pred2 = unorm_y_pred[:,1]\n",
    "unorm_y_test1 = unorm_y_test[:,0]\n",
    "unorm_y_test2 = unorm_y_test[:,1]\n",
    "minimum = round(min(unorm_y_test1))\n",
    "maximum = round(max(unorm_y_test1))\n",
    "plt.scatter(range(unorm_y_pred1.size), unorm_y_pred1)\n",
    "plt.scatter(range(unorm_y_pred1.size), unorm_y_test1)"
   ]
  },
  {
   "cell_type": "code",
   "execution_count": 20,
   "id": "f39cb65a-9e32-4884-b12c-c406145c39be",
   "metadata": {},
   "outputs": [
    {
     "data": {
      "text/plain": [
       "<matplotlib.collections.PathCollection at 0x14891cb49fd0>"
      ]
     },
     "execution_count": 20,
     "metadata": {},
     "output_type": "execute_result"
    },
    {
     "data": {
      "image/png": "[encoded data removed]",
      "text/plain": [
       "<Figure size 432x288 with 1 Axes>"
      ]
     },
     "metadata": {
      "needs_background": "light"
     },
     "output_type": "display_data"
    }
   ],
   "source": [
    "plt.clf()\n",
    "plt.scatter(range(unorm_y_pred2.size), unorm_y_pred2)\n",
    "plt.scatter(range(unorm_y_pred2.size), unorm_y_test2)"
   ]
  },
  {
   "cell_type": "markdown",
   "id": "69bf4508-a837-46ad-9334-a892c8100867",
   "metadata": {},
   "source": [
    "Plots show are close the predictions were to the actual test values."
   ]
  },
  {
   "cell_type": "markdown",
   "id": "0ea4406f-5ab1-4e37-a34b-7193eb5097c2",
   "metadata": {},
   "source": [
    "Chose this way of displaying the data because cannot plot the regression since it is a multidimensional regression"
   ]
  },
  {
   "cell_type": "markdown",
   "id": "cd9c069a-a618-48fe-9383-541b14eb60a9",
   "metadata": {},
   "source": [
    "**DecisionTreeRegressor**"
   ]
  },
  {
   "cell_type": "markdown",
   "id": "dc1fae5c-ee06-4347-ae45-162d79640a9a",
   "metadata": {},
   "source": [
    "Utilized `RandomSearchCV` to find the best hyperparameters"
   ]
  },
  {
   "cell_type": "markdown",
   "id": "a8f5eb42-d463-4e96-ae58-1d973bfcd8b3",
   "metadata": {},
   "source": [
    "Hyperparameter is shown by the following:"
   ]
  },
  {
   "cell_type": "code",
   "execution_count": 21,
   "id": "9ce171c0-9d26-4205-8c44-a2755288cd19",
   "metadata": {},
   "outputs": [
    {
     "name": "stdout",
     "output_type": "stream",
     "text": [
      "{'criterion': 'squared_error', 'max_depth': 1779, 'min_samples_leaf': 16, 'min_samples_split': 34, 'min_weight_fraction_leaf': 0.13586646976933492, 'splitter': 'best'}\n"
     ]
    },
    {
     "data": {
      "text/plain": [
       "0.9018954354088153"
      ]
     },
     "execution_count": 21,
     "metadata": {},
     "output_type": "execute_result"
    }
   ],
   "source": [
    "from sklearn.model_selection import RandomizedSearchCV\n",
    "from sklearn import tree\n",
    "from scipy.stats import uniform as sp_randFloat\n",
    "from scipy.stats import randint as sp_randInt\n",
    "reg = tree.DecisionTreeRegressor()\n",
    "parameters = {'criterion' : ['squared_error', 'friedman_mse', 'absolute_error'],\n",
    "              'splitter' : ['best', 'random'],\n",
    "              'max_depth' : sp_randInt(1, X_train.size),\n",
    "              'min_samples_split' : sp_randInt(2, 100),\n",
    "              'min_samples_leaf' : sp_randInt(1, 100),\n",
    "              'min_weight_fraction_leaf' : sp_randFloat(0, 0.5),\n",
    "             }\n",
    "clf = RandomizedSearchCV(reg, parameters)\n",
    "search = clf.fit(X_train, y_train)\n",
    "print(search.best_params_)\n",
    "search.best_score_"
   ]
  },
  {
   "cell_type": "code",
   "execution_count": 22,
   "id": "8b1c876a-273f-4fb7-9644-be5d489e4592",
   "metadata": {},
   "outputs": [
    {
     "name": "stdout",
     "output_type": "stream",
     "text": [
      "The r2_score of the validation set 0.9421204700172606\n"
     ]
    }
   ],
   "source": [
    "param = search.best_params_\n",
    "model = regression.fitdecisiontree(X_train, y_train, param)\n",
    "print(\"The r2_score of the validation set \" + str(regression.score(model, X_val, y_val)))"
   ]
  },
  {
   "cell_type": "code",
   "execution_count": 23,
   "id": "9db7049a-d48d-4489-be89-9e5fc3921d98",
   "metadata": {},
   "outputs": [
    {
     "name": "stdout",
     "output_type": "stream",
     "text": [
      "The r2_score of the test set 0.9009521726458111\n"
     ]
    }
   ],
   "source": [
    "print(\"The r2_score of the test set \" + str(regression.score(model, X_test, y_test)))"
   ]
  },
  {
   "cell_type": "code",
   "execution_count": 24,
   "id": "5b6d6518-fe74-4e62-a06a-00ee75cb28ef",
   "metadata": {},
   "outputs": [
    {
     "data": {
      "text/plain": [
       "<matplotlib.collections.PathCollection at 0x1488f98e9610>"
      ]
     },
     "execution_count": 24,
     "metadata": {},
     "output_type": "execute_result"
    },
    {
     "data": {
      "image/png": "[encoded data removed]",
      "text/plain": [
       "<Figure size 432x288 with 1 Axes>"
      ]
     },
     "metadata": {
      "needs_background": "light"
     },
     "output_type": "display_data"
    }
   ],
   "source": [
    "y_pred = model.predict(X_test)\n",
    "\n",
    "unorm_y_pred = std_scalers[1][1].inverse_transform(y_pred)\n",
    "unorm_y_test = std_scalers[1][1].inverse_transform(y_test)\n",
    "unorm_y_pred1 = unorm_y_pred[:,0]\n",
    "unorm_y_pred2 = unorm_y_pred[:,1]\n",
    "unorm_y_test1 = unorm_y_test[:,0]\n",
    "unorm_y_test2 = unorm_y_test[:,1]\n",
    "minimum = round(min(unorm_y_test1))\n",
    "maximum = round(max(unorm_y_test1))\n",
    "plt.scatter(range(unorm_y_pred1.size), unorm_y_pred1)\n",
    "plt.scatter(range(unorm_y_pred1.size), unorm_y_test1)"
   ]
  },
  {
   "cell_type": "code",
   "execution_count": 25,
   "id": "768b4493-e85e-42f6-a50c-b2960143043d",
   "metadata": {},
   "outputs": [
    {
     "data": {
      "text/plain": [
       "<matplotlib.collections.PathCollection at 0x1488f78a2a00>"
      ]
     },
     "execution_count": 25,
     "metadata": {},
     "output_type": "execute_result"
    },
    {
     "data": {
      "image/png": "[encoded data removed]",
      "text/plain": [
       "<Figure size 432x288 with 1 Axes>"
      ]
     },
     "metadata": {
      "needs_background": "light"
     },
     "output_type": "display_data"
    }
   ],
   "source": [
    "plt.clf()\n",
    "plt.scatter(range(unorm_y_pred2.size), unorm_y_pred2)\n",
    "plt.scatter(range(unorm_y_pred2.size), unorm_y_test2)"
   ]
  },
  {
   "cell_type": "markdown",
   "id": "8ef07b94-d754-4bd7-997b-a468bce7ac2c",
   "metadata": {},
   "source": [
    "Once again one can see how close or off the predicted values were to the test"
   ]
  }
 ],
 "metadata": {
  "kernelspec": {
   "display_name": "Python 3.8",
   "language": "python",
   "name": "python3"
  },
  "language_info": {
   "codemirror_mode": {
    "name": "ipython",
    "version": 3
   },
   "file_extension": ".py",
   "mimetype": "text/x-python",
   "name": "python",
   "nbconvert_exporter": "python",
   "pygments_lexer": "ipython3",
   "version": "3.8.6"
  }
 },
 "nbformat": 4,
 "nbformat_minor": 5
}
