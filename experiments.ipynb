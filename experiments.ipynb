{
 "cells": [
  {
   "cell_type": "code",
   "execution_count": 1,
   "id": "b290b056-c5b0-4cb5-92fa-dab706664318",
   "metadata": {},
   "outputs": [],
   "source": [
    "import pandas\n",
    "import sklearn\n",
    "import my_pipelines\n",
    "import kNN\n",
    "import logistic\n",
    "import SVM"
   ]
  },
  {
   "cell_type": "markdown",
   "id": "f71ff048-89af-4463-b886-e22d309b8e4e",
   "metadata": {},
   "source": [
    "## Car Data: Classification with k-Nearest Neighbors model"
   ]
  },
  {
   "cell_type": "markdown",
   "id": "10e92b35-0bad-4d28-94f9-d193240a378d",
   "metadata": {},
   "source": [
    "### Getting, encoding, splitting data"
   ]
  },
  {
   "cell_type": "code",
   "execution_count": 2,
   "id": "7370fbf1-af82-4cc0-968c-c5a90746da53",
   "metadata": {},
   "outputs": [],
   "source": [
    "X, y, encoders = my_pipelines.get_data(\"car.data\")\n",
    "X_train, X_test, X_val, y_train, y_test, y_val = my_pipelines.split(X, y)"
   ]
  },
  {
   "cell_type": "markdown",
   "id": "d4313f79-f137-46b2-bfc5-58760f778f55",
   "metadata": {},
   "source": [
    "### Hyperparemeter testing... testing k values from 1-10"
   ]
  },
  {
   "cell_type": "code",
   "execution_count": 3,
   "id": "39162b4c-a828-47bf-9ee4-c18f9db8ba92",
   "metadata": {},
   "outputs": [],
   "source": [
    "max_k = 10\n",
    "scores = []\n",
    "for k in range(1, max_k+1):\n",
    "    model = kNN.fit(X_train, y_train.values.ravel(), k)\n",
    "    scores.append(kNN.score(model, X_val, y_val.values.ravel()))"
   ]
  },
  {
   "cell_type": "markdown",
   "id": "59aecb86-a05e-4589-8a7d-a8469192f413",
   "metadata": {},
   "source": [
    "### Plotting scores to visualize each k's success rate"
   ]
  },
  {
   "cell_type": "code",
   "execution_count": 4,
   "id": "fc968df9-0025-4fa7-8003-e8027da2d711",
   "metadata": {},
   "outputs": [
    {
     "data": {
      "text/plain": [
       "[<matplotlib.lines.Line2D at 0x151d86627b80>]"
      ]
     },
     "execution_count": 4,
     "metadata": {},
     "output_type": "execute_result"
    },
    {
     "data": {
      "image/png": "[encoded data removed]",
      "text/plain": [
       "<Figure size 432x288 with 1 Axes>"
      ]
     },
     "metadata": {
      "needs_background": "light"
     },
     "output_type": "display_data"
    }
   ],
   "source": [
    "import matplotlib.pyplot as plt\n",
    "plt.plot(range(1, max_k+1), scores)"
   ]
  },
  {
   "cell_type": "code",
   "execution_count": 5,
   "id": "7aa20f9c-be29-434e-a36b-6f537768f587",
   "metadata": {},
   "outputs": [
    {
     "name": "stdout",
     "output_type": "stream",
     "text": [
      "0.9595375722543352\n"
     ]
    }
   ],
   "source": [
    "k=7\n",
    "model = kNN.fit(X_train, y_train.values.ravel(), k)\n",
    "print(kNN.score(model, X_test, y_test.values.ravel()))"
   ]
  },
  {
   "cell_type": "markdown",
   "id": "d1a41423-95a9-4e76-9771-04db54764291",
   "metadata": {},
   "source": [
    "### k = 7 seems to be the most effective k for the kNN classifier model with a 95% accuracy score. (varries with each run due to data shuffle in split)"
   ]
  },
  {
   "cell_type": "markdown",
   "id": "8553658e-aac1-4ebc-b94e-7ff1f0047adf",
   "metadata": {},
   "source": [
    "## Car Data: Classification with logistic regression"
   ]
  },
  {
   "cell_type": "code",
   "execution_count": 11,
   "id": "4591b005-8b51-4ea6-a610-0333f6396e02",
   "metadata": {},
   "outputs": [
    {
     "data": {
      "image/png": "[encoded data removed]",
      "text/plain": [
       "<Figure size 432x288 with 1 Axes>"
      ]
     },
     "metadata": {
      "needs_background": "light"
     },
     "output_type": "display_data"
    }
   ],
   "source": [
    "solvers = ['newton-cg', 'lbfgs', 'liblinear', 'sag', 'saga']\n",
    "scores = []\n",
    "for solver in solvers:\n",
    "    model = logistic.fit(X_train, y_train.values.ravel(), solver)\n",
    "    scores.append(logistic.score(model, X_val, y_val.values.ravel()))\n",
    "    \n",
    "import matplotlib.pyplot as plt\n",
    "plot = plt.bar(solvers, scores)\n",
    "plt.show()"
   ]
  },
  {
   "cell_type": "markdown",
   "id": "eadeed29-85b1-4e23-a5b9-84fc9c43b2d4",
   "metadata": {},
   "source": [
    "### The logistic regression has much less success than kNN"
   ]
  },
  {
   "cell_type": "code",
   "execution_count": 10,
   "id": "6f4fb15d-b1df-4f23-b34a-b4e87e541481",
   "metadata": {},
   "outputs": [
    {
     "name": "stdout",
     "output_type": "stream",
     "text": [
      "[0.7341040462427746, 0.7341040462427746, 0.7456647398843931, 0.7341040462427746, 0.7341040462427746]\n"
     ]
    }
   ],
   "source": [
    "print(scores)"
   ]
  },
  {
   "cell_type": "markdown",
   "id": "3fd79265-849e-444a-a21b-74ec79cc5161",
   "metadata": {},
   "source": [
    "### Using 'liblinear' as the solver seems to have the most success (~75%)"
   ]
  },
  {
   "cell_type": "code",
   "execution_count": 4,
   "id": "137d1561-0da7-4731-9952-ba35c6db2aa6",
   "metadata": {},
   "outputs": [],
   "source": [
    "model = SVM.fit(X_train, y_train.values.ravel())"
   ]
  },
  {
   "cell_type": "code",
   "execution_count": 5,
   "id": "d4a412ed-68b2-4158-8472-28ce7d73f90b",
   "metadata": {},
   "outputs": [
    {
     "data": {
      "text/plain": [
       "0.9248554913294798"
      ]
     },
     "execution_count": 5,
     "metadata": {},
     "output_type": "execute_result"
    }
   ],
   "source": [
    "SVM.score(model, X_val, y_val.values.ravel())"
   ]
  }
 ],
 "metadata": {
  "kernelspec": {
   "display_name": "Python 3.8",
   "language": "python",
   "name": "python3"
  },
  "language_info": {
   "codemirror_mode": {
    "name": "ipython",
    "version": 3
   },
   "file_extension": ".py",
   "mimetype": "text/x-python",
   "name": "python",
   "nbconvert_exporter": "python",
   "pygments_lexer": "ipython3",
   "version": "3.8.6"
  }
 },
 "nbformat": 4,
 "nbformat_minor": 5
}
